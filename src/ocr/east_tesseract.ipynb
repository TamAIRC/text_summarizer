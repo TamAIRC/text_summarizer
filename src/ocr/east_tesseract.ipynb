{
 "cells": [
  {
   "cell_type": "code",
   "execution_count": 2,
   "metadata": {},
   "outputs": [],
   "source": [
    "# Hướng dẫn chạy\n",
    "# python text_recognition.py --image images/example_01.jpg\n",
    "import pytesseract\n",
    "import argparse\n",
    "import cv2\n",
    "from helpers_east_tesseract import decode_prediction\n",
    "import numpy as np\n",
    "from imutils.object_detection import non_max_suppression"
   ]
  },
  {
   "cell_type": "code",
   "execution_count": 3,
   "metadata": {},
   "outputs": [
    {
     "name": "stdout",
     "output_type": "stream",
     "text": [
      "Add link config, dataset, src, tools to path.\n"
     ]
    }
   ],
   "source": [
    "from helpers import add_path_init\n",
    "\n",
    "add_path_init()"
   ]
  },
  {
   "cell_type": "code",
   "execution_count": 4,
   "metadata": {},
   "outputs": [],
   "source": [
    "# parser = argparse.ArgumentParser()\n",
    "# parser.add_argument(\"-i\", \"--image\", required=True, help=\"Path to the input image\")\n",
    "# parser.add_argument(\"-c\", \"--min_confidence\", type=float, default=0.5, help=\"min confidence score for bbox to consider\")\n",
    "# parser.add_argument(\"-p\", \"--padding\", type=float, default=0.0, help=\"amount of padding to add to each border of ROI\")\n",
    "# parser.add_argument(\"-w\", \"--width\", type=int, default=320, help=\"nearest multiple of 32 for resized width\")\n",
    "# parser.add_argument(\"-e\", \"--height\", type=int, default=320, help=\"nearest multiple of 32 for resized height\")\n",
    "# args = vars(parser.parse_args())"
   ]
  },
  {
   "cell_type": "code",
   "execution_count": 5,
   "metadata": {},
   "outputs": [
    {
     "name": "stdout",
     "output_type": "stream",
     "text": [
      "[INFO] loading EAST detector...\n"
     ]
    }
   ],
   "source": [
    "\n",
    "print(\"[INFO] loading EAST detector...\")\n",
    "net = cv2.dnn.readNet(r\"D:\\Product\\text_summarizer\\models\\frozen_east_text_detection.pb\")"
   ]
  },
  {
   "cell_type": "code",
   "execution_count": 6,
   "metadata": {},
   "outputs": [],
   "source": [
    "link_mucluc = r\"D:\\Product\\text_summarizer\\dataset\\data_image\\bup_sen_xanh\\image\\Bup-Sen-xanh_page_1.png\""
   ]
  },
  {
   "cell_type": "code",
   "execution_count": 7,
   "metadata": {},
   "outputs": [
    {
     "name": "stdout",
     "output_type": "stream",
     "text": [
      "(2200, 1700)\n"
     ]
    }
   ],
   "source": [
    "# Chuẩn bị ảnh, chuyển về kích thước // 32\n",
    "image = cv2.imread(link_mucluc)\n",
    "gray_image = cv2.cvtColor(image, cv2.COLOR_BGR2GRAY)\n",
    "# copy một ảnh để xử lý trên đó, tí so sánh với ảnh gốc\n",
    "orig = gray_image.copy()\n",
    "# lưu lại kích thước ảnh gốc ban đầu\n",
    "(orig_h, orig_w) = image.shape[:2]\n",
    "print((orig_h, orig_w))"
   ]
  },
  {
   "cell_type": "code",
   "execution_count": 8,
   "metadata": {},
   "outputs": [],
   "source": [
    "\n",
    "# Nếu dùng cách này hoặc chọn height, width không thích hợp sẽ cho kết quả không tốt\n",
    "# Đã thử và xác nhận điều này\n",
    "# new_h = (h // 32) * 32\n",
    "# new_w = (w // 32) * 32\n",
    "\n",
    "new_h = 640\n",
    "new_w = 640\n",
    "# chủ yếu để chú ý sẽ làm việc với image mới được resize rồi, điều này thực chất ko cần do bên dưới đã chuyển thành blob có kích thước đó\n",
    "image = cv2.resize(image, (new_w, new_h))   \n",
    "\n",
    "# lưu lại ratio để còn rescale lên so với ảnh ban đầu, do ảnh đưa vào mạng phải resize lại cho cạnh chia hết cho 32\n",
    "ratio_h = orig_h / new_h\n",
    "ratio_w = orig_w / new_w\n",
    "\n",
    "# chuyển về 4D blob (batch, channels, H, W), convert BRG => RGB\n",
    "# substratc mean from image, input của EAST là bội của 32, nếu ko sẽ không nối được ở phần feature-merging branch\n",
    "blob = cv2.dnn.blobFromImage(image, 1, (new_w, new_h), (123.68, 116.78, 103.94), swapRB=True, crop=False)\n",
    "# cho blob qua network\n",
    "net.setInput(blob)\n",
    "\n",
    "output_layer_names = net.getUnconnectedOutLayersNames()\n",
    "(geometry, scores) = net.forward(output_layer_names)\n",
    "\n",
    "# lấy final boxes sau khi đã loại bỏ box có score nhỏ và áp dụng NMS\n",
    "final_boxes = decode_prediction(geometry, scores, min_score=0.2)     # để overThreshold mặc định nhé\n",
    "\n",
    "# Tạo list để lưu kết quả\n",
    "results = []\n"
   ]
  },
  {
   "cell_type": "code",
   "execution_count": 9,
   "metadata": {},
   "outputs": [],
   "source": [
    "import pytesseract\n",
    "TESSERACT_LINK = r\"C:\\Program Files\\Tesseract-OCR\\tesseract.exe\"\n",
    "pytesseract.pytesseract.tesseract_cmd = TESSERACT_LINK"
   ]
  },
  {
   "cell_type": "code",
   "execution_count": 10,
   "metadata": {},
   "outputs": [],
   "source": [
    "\n",
    "# Phải nhân với hệ số scale ban đầu mới khớp được với ảnh ban đầu, do kích thước ảnh ban đầu có thể không chia hết cho 32\n",
    "# nên cần resize để chia hết cho 32\n",
    "# duyệt qua các boxes\n",
    "\n",
    "for(xmin, ymin, xmax, ymax) in final_boxes:\n",
    "    \"\"\" Lấy tọa độ của bounding box trên ảnh gốc (do đã nhân với hệ số tỉ lệ). Từ đây chuyển về hết kích thước ảnh gốc\"\"\"\n",
    "    xmin = int(xmin * ratio_w)\n",
    "    ymin = int(ymin * ratio_h)\n",
    "    xmax = int(xmax * ratio_w)\n",
    "    ymax = int(ymax * ratio_h)\n",
    "\n",
    "    # áp dụng padding vào bounding box nhằm mở rộng bounding box\n",
    "    # nhiều khi bounding box ăn sâu vào bên trong text, cần mở rộng ra\n",
    "    \"\"\" \n",
    "    Ở đây để padding tỉ lệ theo chiều cao và chiều rộng (ví dụ 5%) của bounding box\n",
    "    Điều này có nghĩa rằng chiều nào lớn hơn sẽ mở rộng hơn.\n",
    "    Tuy nhiên mình nghĩ ko cần thiết, có thể mở rộng 2 chiều như nhau, truyền vào số pixel cũng được\n",
    "    Ở đây truyên tỉ lệ\n",
    "    \"\"\"\n",
    "    dx = int((xmax - xmin) * 0.1)\n",
    "    dy = int((ymax - ymin) * 0.1)\n",
    "\n",
    "    # sau khi áp dụng padding cần dùng min, max để tránh tràn ra khỏi kích thước ảnh\n",
    "    xmin = max(0, xmin - dx)\n",
    "    ymin = max(0, ymin - dy)\n",
    "    xmax = min(orig_w, xmax + 2 * dx)\n",
    "    ymax = min(orig_h, ymax + 2 * dy)\n",
    "\n",
    "    # trích xuất text ROI\n",
    "    roi = orig[ymin:ymax, xmin:xmax]\n",
    "    # roi = cv2.cvtColor(roi, cv2.COLOR_BGR2GRAY)     # nên nhớ orig vẫn đang ở BGR\n",
    "\n",
    "    # set config for Tesseract\n",
    "    config = \"-l eng --oem 1 --psm 7\"\n",
    "    text = pytesseract.image_to_string(roi, config=config, lang='vie')\n",
    "\n",
    "    # lưu bounding box và text tương ứng vào list\n",
    "    results.append(((xmin, ymin, xmax, ymax), text))\n",
    "\n",
    "\"\"\" Sắp xếp results theo tọa độ của bounding boxes từ trên xuống \"\"\"\n",
    "results = sorted(results, key=lambda x: x[0][1])    # sắp xếp theo ymin"
   ]
  },
  {
   "cell_type": "code",
   "execution_count": 11,
   "metadata": {},
   "outputs": [
    {
     "name": "stdout",
     "output_type": "stream",
     "text": [
      "luc\n",
      "\n",
      "\n",
      "Muc.|\n",
      "\n",
      "\n",
      "Déi!\n",
      "\n",
      "\n",
      "Gia\n",
      "\n",
      "\n",
      "Tac C\n",
      "\n",
      "\n",
      "i Nét V\n",
      "\n",
      "\n",
      "“Phan\n",
      "\n",
      "\n",
      "Aus\n",
      "\n",
      "\n",
      "Tho\n",
      "\n",
      "\n",
      "Thoi\n",
      "\n",
      "\n",
      "Chuon\n",
      "\n",
      "\n",
      "Thoi_\n",
      "\n",
      "\n",
      "\n",
      "\n",
      "\n",
      "\n",
      "Tho A\n",
      "\n",
      "\n",
      "Chwong |\n",
      "\n",
      "\n",
      "\n",
      "\n",
      "Aus\n",
      "\n",
      "\n",
      "Thoi.\n",
      "\n",
      "\n",
      "Chwong | -\n",
      "\n",
      "\n",
      "Tho\n",
      "\n",
      "\n",
      "Thoi\n",
      "\n",
      "\n",
      "Chwong| -\n",
      "\n",
      "\n",
      "\n",
      "\n",
      "Chuong |\n",
      "\n",
      "\n",
      "\n",
      "\n",
      "Thei\n",
      "\n",
      "\n",
      "\n",
      "\n",
      "\n",
      "\n",
      "Thoi\n",
      "\n",
      "\n",
      "Chuong|-\n",
      "\n",
      "\n",
      "Thoi\n",
      "\n",
      "\n",
      "Chuong |.\n",
      "\n",
      "\n",
      "Chvong | -\n",
      "\n",
      "\n",
      "\n",
      "\n",
      "Thoi\n",
      "\n",
      "\n",
      "ae\n",
      "\n",
      "\n",
      "Chuong II -\n",
      "\n",
      "\n",
      "-Thoi\n",
      "\n",
      "\n",
      "i Nién T\n",
      "\n",
      "\n",
      "Chuong Il\n",
      "\n",
      "\n",
      "\n",
      "\n",
      ":\n",
      "\n",
      "\n",
      "Chuong II\n",
      "\n",
      "\n",
      "i Nién |\n",
      "\n",
      "\n",
      "ThoiN\n",
      "\n",
      "\n",
      "iNién 1\n",
      "\n",
      "\n",
      "Chwong Il\n",
      "\n",
      "\n",
      "Chuong Il\n",
      "\n",
      "\n",
      "Thoi I\n",
      "\n",
      "\n",
      "i Nién_\n",
      "\n",
      "\n",
      "Thoi b\n",
      "\n",
      "\n",
      "Chuong Il\n",
      "\n",
      "\n",
      "Nién_\n",
      "\n",
      "\n",
      "\n",
      "\n",
      "= :\n",
      "\n",
      "\n",
      "Chuong |\n",
      "\n",
      "\n",
      "i Nién\n",
      "\n",
      "\n",
      "- Thi N\n",
      "\n",
      "\n",
      "Chuong II.\n",
      "\n",
      "\n",
      "i Nién T\n",
      "\n",
      "\n",
      ":\n",
      "\n",
      "\n",
      "\n",
      "\n",
      "Tho!\n",
      "\n",
      "\n",
      "Chuong Il\n",
      "\n",
      "\n",
      "i Nién-\n",
      "\n",
      "\n",
      "Chuong Ill\n",
      "\n",
      "\n",
      "Hai WV\n",
      "\n",
      "\n",
      "\n",
      "\n",
      "\n",
      "\n",
      "Chwong Ill\n",
      "\n",
      "\n",
      "Chwong IL\n",
      "\n",
      "\n",
      "\n",
      "\n",
      "\n",
      "\n",
      "Hai N\n",
      "\n",
      "\n",
      "Chwong Il\n",
      "\n",
      "\n",
      "ae\n",
      "\n",
      "\n",
      "Chuong II\n",
      "\n",
      "\n",
      "g I= 7\n",
      "\n",
      "\n",
      "i Mwoi -\n",
      "\n",
      "\n",
      "_ Tudi |\n",
      "\n",
      "\n",
      "i Hai I\n",
      "\n",
      "\n"
     ]
    }
   ],
   "source": [
    "# duyệt qua kết quả\n",
    "for ((xmin, ymin, xmax, ymax), text) in results:\n",
    "    print(\"{}\\n\".format(text))\n",
    "    \n",
    "    # strip out non-ASCII text so we can draw the text on the image using OpenCV\n",
    "    text = \"\".join([c if ord(c) < 128 else \"\" for c in text]).strip()\n",
    "    output = orig.copy()\n",
    "\n",
    "    cv2.rectangle(output, (xmin, ymin), (xmax, ymax), (255, 0, 0), 2)\n",
    "    cv2.putText(output, text, (xmin, ymin - 10), cv2.FONT_HERSHEY_SIMPLEX, 1.3, (0, 255, ), 3)\n",
    "\n",
    "    cv2.imshow(\"Output\", output)\n",
    "    cv2.waitKey(0)"
   ]
  },
  {
   "cell_type": "code",
   "execution_count": 22,
   "metadata": {},
   "outputs": [
    {
     "name": "stdout",
     "output_type": "stream",
     "text": [
      "(2339, 1654, 3)\n",
      "(2339, 1654, 3)\n"
     ]
    }
   ],
   "source": [
    "import cv2\n",
    "import numpy as np\n",
    "from matplotlib import pyplot as plt\n",
    "\n",
    "link_mucluc = r\"D:\\Product\\text_summarizer\\datasets\\data_image\\TTX-Khung CPDT_V01_20180910\\TTX-Khung CPDT_V01_20180910_page_1.png\"\n",
    "# Load ảnh\n",
    "image_1 = cv2.imread(link_mucluc)\n",
    "image_2 = cv2.imread(link_mucluc)\n",
    "print(image_1.shape)\n",
    "print(image_2.shape)"
   ]
  },
  {
   "cell_type": "code",
   "execution_count": 23,
   "metadata": {},
   "outputs": [],
   "source": [
    "# Chuyển ảnh sang ảnh grayscale\n",
    "gray = cv2.cvtColor(image_1, cv2.COLOR_BGR2GRAY)\n",
    "\n",
    "# Sử dụng MSER để phát hiện vùng chữ\n",
    "mser = cv2.MSER_create()\n",
    "regions, _ = mser.detectRegions(gray)\n",
    "\n",
    "# Lọc các vùng quá nhỏ\n",
    "hulls = [cv2.convexHull(p.reshape(-1, 1, 2)) for p in regions]\n",
    "hulls = [h for h in hulls if cv2.contourArea(h) > 100]\n",
    "\n",
    "# Sắp xếp các vùng theo thứ tự từ trên xuống dưới\n",
    "hulls.sort(key=lambda x: cv2.boundingRect(x)[1])"
   ]
  },
  {
   "cell_type": "code",
   "execution_count": 24,
   "metadata": {},
   "outputs": [
    {
     "data": {
      "text/plain": [
       "True"
      ]
     },
     "execution_count": 24,
     "metadata": {},
     "output_type": "execute_result"
    }
   ],
   "source": [
    "# Vẽ hình chữ nhật quanh các vùng chữ\n",
    "for hull in hulls:\n",
    "    x, y, w, h = cv2.boundingRect(hull)\n",
    "    cv2.rectangle(image_1, (x, y), (x + w, y + h), (0, 255, 0), 2)\n",
    "\n",
    "# Lưu ảnh có vùng chữ được vẽ\n",
    "cv2.imwrite(r'D:\\Product\\text_summarizer\\datasets\\data_test\\output.jpg', image_1)"
   ]
  },
  {
   "cell_type": "code",
   "execution_count": 25,
   "metadata": {},
   "outputs": [],
   "source": [
    "# Chia ảnh thành các dòng chữ\n",
    "lines = []\n",
    "line = []\n",
    "for hull in hulls:\n",
    "    x, y, w, h = cv2.boundingRect(hull)\n",
    "    if line and y - line[-1][1] > h * 1.2:  # Nếu khoảng cách lớn hơn 1.2 lần chiều cao\n",
    "        lines.append(line)\n",
    "        line = []\n",
    "    line.append((x, y, x + w, y + h))\n",
    "if line:\n",
    "    lines.append(line)"
   ]
  },
  {
   "cell_type": "code",
   "execution_count": 28,
   "metadata": {},
   "outputs": [],
   "source": [
    "# Tính toán khoảng cách trung bình giữa các dòng chữ\n",
    "avg_line_spacing = sum(line[0][1] - line[-1][3] for line in lines) / len(lines)\n",
    "\n",
    "# Tính toán padding\n",
    "padding = int(avg_line_spacing / 2)"
   ]
  },
  {
   "cell_type": "code",
   "execution_count": 29,
   "metadata": {},
   "outputs": [
    {
     "data": {
      "text/plain": [
       "True"
      ]
     },
     "execution_count": 29,
     "metadata": {},
     "output_type": "execute_result"
    }
   ],
   "source": [
    "for line in lines:\n",
    "    \n",
    "    # Tính toán tọa độ của hình chữ nhật lớn nhất chứa tất cả các hình chữ nhật con của các dòng chữ\n",
    "    x_min = min(rect[0] for rect in line) - padding\n",
    "    y_min = min(rect[1] for rect in line) - padding\n",
    "    x_max = max(rect[2] for rect in line) + padding\n",
    "    y_max = max(rect[3] for rect in line) + padding\n",
    "    # Vẽ hình chữ nhật lớn xung quanh tất cả các hình chữ nhật con\n",
    "    cv2.rectangle(image_2, (x_min, y_min), (x_max, y_max), (0, 255, 0), 2)\n",
    "\n",
    "# Lưu ảnh có vùng chữ được vẽ\n",
    "cv2.imwrite(r'D:\\Product\\text_summarizer\\datasets\\data_test\\output2.jpg', image_2)\n"
   ]
  },
  {
   "cell_type": "code",
   "execution_count": 12,
   "metadata": {},
   "outputs": [],
   "source": [
    "# Đảm bảo rằng thư mục lưu trữ ảnh đã được tạo\n",
    "import os\n",
    "\n",
    "\n",
    "output_dir = 'output_images'\n",
    "os.makedirs(output_dir, exist_ok=True)"
   ]
  },
  {
   "cell_type": "code",
   "execution_count": 13,
   "metadata": {},
   "outputs": [],
   "source": [
    "# Xử lý từng dòng chữ và lưu ảnh vào tệp tin\n",
    "for i, line in enumerate(lines):\n",
    "    # Cắt ảnh theo dòng chữ\n",
    "    roi = image[min(rect[1] for rect in line):max(rect[3] for rect in line),\n",
    "                min(rect[0] for rect in line):max(rect[2] for rect in line)]\n",
    "    # Đặt tên cho tệp tin ảnh\n",
    "    filename = os.path.join(output_dir, f'line_{i}.jpg')\n",
    "    \n",
    "    # Lưu ảnh vào tệp tin\n",
    "    cv2.imwrite(filename, roi)"
   ]
  }
 ],
 "metadata": {
  "kernelspec": {
   "display_name": ".venv",
   "language": "python",
   "name": "python3"
  },
  "language_info": {
   "codemirror_mode": {
    "name": "ipython",
    "version": 3
   },
   "file_extension": ".py",
   "mimetype": "text/x-python",
   "name": "python",
   "nbconvert_exporter": "python",
   "pygments_lexer": "ipython3",
   "version": "3.11.9"
  }
 },
 "nbformat": 4,
 "nbformat_minor": 2
}
