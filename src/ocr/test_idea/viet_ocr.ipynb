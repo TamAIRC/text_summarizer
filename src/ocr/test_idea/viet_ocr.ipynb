{
 "cells": [
  {
   "cell_type": "code",
   "execution_count": 4,
   "metadata": {},
   "outputs": [
    {
     "name": "stdout",
     "output_type": "stream",
     "text": [
      "Collecting vietocr\n",
      "  Using cached vietocr-0.3.13-py3-none-any.whl.metadata (4.1 kB)\n",
      "Requirement already satisfied: einops==0.2.0 in d:\\product\\text_summarizer\\.venv\\lib\\site-packages (from vietocr) (0.2.0)\n",
      "Collecting gdown==4.4.0 (from vietocr)\n",
      "  Using cached gdown-4.4.0-py3-none-any.whl\n",
      "Requirement already satisfied: prefetch-generator==1.0.1 in d:\\product\\text_summarizer\\.venv\\lib\\site-packages (from vietocr) (1.0.1)\n",
      "Requirement already satisfied: imgaug==0.4.0 in d:\\product\\text_summarizer\\.venv\\lib\\site-packages (from vietocr) (0.4.0)\n",
      "Collecting albumentations==1.4.2 (from vietocr)\n",
      "  Using cached albumentations-1.4.2-py3-none-any.whl.metadata (36 kB)\n",
      "Requirement already satisfied: lmdb>=1.0.0 in d:\\product\\text_summarizer\\.venv\\lib\\site-packages (from vietocr) (1.4.1)\n",
      "Requirement already satisfied: scikit-image>=0.21.0 in d:\\product\\text_summarizer\\.venv\\lib\\site-packages (from vietocr) (0.23.2)\n",
      "Requirement already satisfied: pillow==10.2.0 in d:\\product\\text_summarizer\\.venv\\lib\\site-packages (from vietocr) (10.2.0)\n",
      "Requirement already satisfied: numpy>=1.24.4 in d:\\product\\text_summarizer\\.venv\\lib\\site-packages (from albumentations==1.4.2->vietocr) (1.26.4)\n",
      "Requirement already satisfied: scipy>=1.10.0 in d:\\product\\text_summarizer\\.venv\\lib\\site-packages (from albumentations==1.4.2->vietocr) (1.13.0)\n",
      "Requirement already satisfied: PyYAML in d:\\product\\text_summarizer\\.venv\\lib\\site-packages (from albumentations==1.4.2->vietocr) (6.0.1)\n",
      "Requirement already satisfied: typing-extensions>=4.9.0 in d:\\product\\text_summarizer\\.venv\\lib\\site-packages (from albumentations==1.4.2->vietocr) (4.11.0)\n",
      "Requirement already satisfied: scikit-learn>=1.3.2 in d:\\product\\text_summarizer\\.venv\\lib\\site-packages (from albumentations==1.4.2->vietocr) (1.4.2)\n",
      "Collecting opencv-python-headless>=4.9.0 (from albumentations==1.4.2->vietocr)\n",
      "  Using cached opencv_python_headless-4.9.0.80-cp37-abi3-win_amd64.whl.metadata (20 kB)\n",
      "Requirement already satisfied: filelock in d:\\product\\text_summarizer\\.venv\\lib\\site-packages (from gdown==4.4.0->vietocr) (3.13.4)\n",
      "Requirement already satisfied: requests[socks] in d:\\product\\text_summarizer\\.venv\\lib\\site-packages (from gdown==4.4.0->vietocr) (2.31.0)\n",
      "Requirement already satisfied: six in d:\\product\\text_summarizer\\.venv\\lib\\site-packages (from gdown==4.4.0->vietocr) (1.16.0)\n",
      "Requirement already satisfied: tqdm in d:\\product\\text_summarizer\\.venv\\lib\\site-packages (from gdown==4.4.0->vietocr) (4.66.2)\n",
      "Collecting beautifulsoup4 (from gdown==4.4.0->vietocr)\n",
      "  Using cached beautifulsoup4-4.12.3-py3-none-any.whl.metadata (3.8 kB)\n",
      "Requirement already satisfied: matplotlib in d:\\product\\text_summarizer\\.venv\\lib\\site-packages (from imgaug==0.4.0->vietocr) (3.8.4)\n",
      "Requirement already satisfied: opencv-python in d:\\product\\text_summarizer\\.venv\\lib\\site-packages (from imgaug==0.4.0->vietocr) (4.7.0.72)\n",
      "Requirement already satisfied: imageio in d:\\product\\text_summarizer\\.venv\\lib\\site-packages (from imgaug==0.4.0->vietocr) (2.34.1)\n",
      "Requirement already satisfied: Shapely in d:\\product\\text_summarizer\\.venv\\lib\\site-packages (from imgaug==0.4.0->vietocr) (2.0.4)\n",
      "Requirement already satisfied: networkx>=2.8 in d:\\product\\text_summarizer\\.venv\\lib\\site-packages (from scikit-image>=0.21.0->vietocr) (3.2.1)\n",
      "Requirement already satisfied: tifffile>=2022.8.12 in d:\\product\\text_summarizer\\.venv\\lib\\site-packages (from scikit-image>=0.21.0->vietocr) (2024.4.18)\n",
      "Requirement already satisfied: packaging>=21 in d:\\product\\text_summarizer\\.venv\\lib\\site-packages (from scikit-image>=0.21.0->vietocr) (24.0)\n",
      "Requirement already satisfied: lazy-loader>=0.4 in d:\\product\\text_summarizer\\.venv\\lib\\site-packages (from scikit-image>=0.21.0->vietocr) (0.4)\n",
      "Requirement already satisfied: joblib>=1.2.0 in d:\\product\\text_summarizer\\.venv\\lib\\site-packages (from scikit-learn>=1.3.2->albumentations==1.4.2->vietocr) (1.4.0)\n",
      "Requirement already satisfied: threadpoolctl>=2.0.0 in d:\\product\\text_summarizer\\.venv\\lib\\site-packages (from scikit-learn>=1.3.2->albumentations==1.4.2->vietocr) (3.4.0)\n",
      "Requirement already satisfied: soupsieve>1.2 in d:\\product\\text_summarizer\\.venv\\lib\\site-packages (from beautifulsoup4->gdown==4.4.0->vietocr) (2.5)\n",
      "Requirement already satisfied: contourpy>=1.0.1 in d:\\product\\text_summarizer\\.venv\\lib\\site-packages (from matplotlib->imgaug==0.4.0->vietocr) (1.2.1)\n",
      "Requirement already satisfied: cycler>=0.10 in d:\\product\\text_summarizer\\.venv\\lib\\site-packages (from matplotlib->imgaug==0.4.0->vietocr) (0.10.0)\n",
      "Requirement already satisfied: fonttools>=4.22.0 in d:\\product\\text_summarizer\\.venv\\lib\\site-packages (from matplotlib->imgaug==0.4.0->vietocr) (4.51.0)\n",
      "Requirement already satisfied: kiwisolver>=1.3.1 in d:\\product\\text_summarizer\\.venv\\lib\\site-packages (from matplotlib->imgaug==0.4.0->vietocr) (1.4.5)\n",
      "Requirement already satisfied: pyparsing>=2.3.1 in d:\\product\\text_summarizer\\.venv\\lib\\site-packages (from matplotlib->imgaug==0.4.0->vietocr) (3.1.2)\n",
      "Requirement already satisfied: python-dateutil>=2.7 in d:\\product\\text_summarizer\\.venv\\lib\\site-packages (from matplotlib->imgaug==0.4.0->vietocr) (2.9.0.post0)\n",
      "Requirement already satisfied: charset-normalizer<4,>=2 in d:\\product\\text_summarizer\\.venv\\lib\\site-packages (from requests[socks]->gdown==4.4.0->vietocr) (3.3.2)\n",
      "Requirement already satisfied: idna<4,>=2.5 in d:\\product\\text_summarizer\\.venv\\lib\\site-packages (from requests[socks]->gdown==4.4.0->vietocr) (2.10)\n",
      "Requirement already satisfied: urllib3<3,>=1.21.1 in d:\\product\\text_summarizer\\.venv\\lib\\site-packages (from requests[socks]->gdown==4.4.0->vietocr) (2.2.1)\n",
      "Requirement already satisfied: certifi>=2017.4.17 in d:\\product\\text_summarizer\\.venv\\lib\\site-packages (from requests[socks]->gdown==4.4.0->vietocr) (2023.7.22)\n",
      "Requirement already satisfied: PySocks!=1.5.7,>=1.5.6 in d:\\product\\text_summarizer\\.venv\\lib\\site-packages (from requests[socks]->gdown==4.4.0->vietocr) (1.7.1)\n",
      "Requirement already satisfied: colorama in d:\\product\\text_summarizer\\.venv\\lib\\site-packages (from tqdm->gdown==4.4.0->vietocr) (0.4.6)\n",
      "Using cached vietocr-0.3.13-py3-none-any.whl (34 kB)\n",
      "Using cached albumentations-1.4.2-py3-none-any.whl (133 kB)\n",
      "Using cached opencv_python_headless-4.9.0.80-cp37-abi3-win_amd64.whl (38.5 MB)\n",
      "Using cached beautifulsoup4-4.12.3-py3-none-any.whl (147 kB)\n",
      "Installing collected packages: opencv-python-headless, beautifulsoup4, gdown, albumentations, vietocr\n",
      "  Attempting uninstall: opencv-python-headless\n",
      "    Found existing installation: opencv-python-headless 4.8.0.74\n",
      "    Uninstalling opencv-python-headless-4.8.0.74:\n"
     ]
    },
    {
     "name": "stderr",
     "output_type": "stream",
     "text": [
      "ERROR: Could not install packages due to an OSError: [WinError 5] Access is denied: 'd:\\\\product\\\\text_summarizer\\\\.venv\\\\lib\\\\site-packages\\\\cv2\\\\cv2.pyd'\n",
      "Check the permissions.\n",
      "\n"
     ]
    }
   ],
   "source": [
    "!pip install vietocr"
   ]
  },
  {
   "cell_type": "code",
   "execution_count": 9,
   "metadata": {},
   "outputs": [
    {
     "ename": "AttributeError",
     "evalue": "module 'cv2' has no attribute 'imread'",
     "output_type": "error",
     "traceback": [
      "\u001b[1;31m---------------------------------------------------------------------------\u001b[0m",
      "\u001b[1;31mAttributeError\u001b[0m                            Traceback (most recent call last)",
      "Cell \u001b[1;32mIn[9], line 4\u001b[0m\n\u001b[0;32m      2\u001b[0m \u001b[38;5;28;01mfrom\u001b[39;00m \u001b[38;5;21;01mmatplotlib\u001b[39;00m \u001b[38;5;28;01mimport\u001b[39;00m pyplot \u001b[38;5;28;01mas\u001b[39;00m plt\n\u001b[0;32m      3\u001b[0m image_path \u001b[38;5;241m=\u001b[39m \u001b[38;5;124mr\u001b[39m\u001b[38;5;124m\"\u001b[39m\u001b[38;5;124mD:\u001b[39m\u001b[38;5;124m\\\u001b[39m\u001b[38;5;124mProduct\u001b[39m\u001b[38;5;124m\\\u001b[39m\u001b[38;5;124mtext_summarizer\u001b[39m\u001b[38;5;124m\\\u001b[39m\u001b[38;5;124mdataset\u001b[39m\u001b[38;5;124m\\\u001b[39m\u001b[38;5;124mdata_image\u001b[39m\u001b[38;5;124m\\\u001b[39m\u001b[38;5;124mTTX-Khung CPDT_V01_20180910\u001b[39m\u001b[38;5;124m\\\u001b[39m\u001b[38;5;124mTTX-Khung CPDT_V01_20180910_page_2.png\u001b[39m\u001b[38;5;124m\"\u001b[39m\n\u001b[1;32m----> 4\u001b[0m image \u001b[38;5;241m=\u001b[39m \u001b[43mcv2\u001b[49m\u001b[38;5;241;43m.\u001b[39;49m\u001b[43mimread\u001b[49m(image_path)\n",
      "\u001b[1;31mAttributeError\u001b[0m: module 'cv2' has no attribute 'imread'"
     ]
    }
   ],
   "source": [
    "import cv2\n",
    "from matplotlib import pyplot as plt\n",
    "image_path = r\"D:\\Product\\text_summarizer\\dataset\\data_image\\TTX-Khung CPDT_V01_20180910\\TTX-Khung CPDT_V01_20180910_page_2.png\"\n",
    "image = cv2.imread(image_path)\n"
   ]
  },
  {
   "cell_type": "code",
   "execution_count": 5,
   "metadata": {},
   "outputs": [
    {
     "ename": "ModuleNotFoundError",
     "evalue": "No module named 'vietocr'",
     "output_type": "error",
     "traceback": [
      "\u001b[1;31m---------------------------------------------------------------------------\u001b[0m",
      "\u001b[1;31mModuleNotFoundError\u001b[0m                       Traceback (most recent call last)",
      "Cell \u001b[1;32mIn[5], line 1\u001b[0m\n\u001b[1;32m----> 1\u001b[0m \u001b[38;5;28;01mfrom\u001b[39;00m \u001b[38;5;21;01mvietocr\u001b[39;00m\u001b[38;5;21;01m.\u001b[39;00m\u001b[38;5;21;01mtool\u001b[39;00m\u001b[38;5;21;01m.\u001b[39;00m\u001b[38;5;21;01mconfig\u001b[39;00m \u001b[38;5;28;01mimport\u001b[39;00m Cfg\n",
      "\u001b[1;31mModuleNotFoundError\u001b[0m: No module named 'vietocr'"
     ]
    }
   ],
   "source": [
    "from vietocr.tool.config import Cfg"
   ]
  }
 ],
 "metadata": {
  "kernelspec": {
   "display_name": ".venv",
   "language": "python",
   "name": "python3"
  },
  "language_info": {
   "codemirror_mode": {
    "name": "ipython",
    "version": 3
   },
   "file_extension": ".py",
   "mimetype": "text/x-python",
   "name": "python",
   "nbconvert_exporter": "python",
   "pygments_lexer": "ipython3",
   "version": "3.11.9"
  }
 },
 "nbformat": 4,
 "nbformat_minor": 2
}
